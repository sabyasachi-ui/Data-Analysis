{
 "cells": [
  {
   "cell_type": "code",
   "execution_count": null,
   "id": "67a3b0a6",
   "metadata": {},
   "outputs": [],
   "source": [
    "import os\n",
    "from docx import Document\n",
    "from docx2pdf import convert\n",
    "import sys\n"
   ]
  },
  {
   "cell_type": "code",
   "execution_count": 4,
   "id": "4347644b",
   "metadata": {},
   "outputs": [
    {
     "name": "stderr",
     "output_type": "stream",
     "text": [
      "100%|██████████| 1/1 [00:03<00:00,  3.99s/it]"
     ]
    },
    {
     "name": "stdout",
     "output_type": "stream",
     "text": [
      "Document and PDF generated successfully: CO_PO_PSO_Mapping_Table.docx and CO_PO_PSO_Mapping_Table.pdf\n"
     ]
    },
    {
     "name": "stderr",
     "output_type": "stream",
     "text": [
      "\n"
     ]
    }
   ],
   "source": [
    "from docx import Document\n",
    "from docx.shared import Inches\n",
    "from docx2pdf import convert\n",
    "\n",
    "# Create a new document\n",
    "doc = Document()\n",
    "doc.add_heading('CO-PO-PSO Mapping Table', 0)\n",
    "\n",
    "# Add Course Outcomes section\n",
    "doc.add_heading('1. Course Outcomes (COs)', level=1)\n",
    "cos = [\n",
    "    (\"CO1\", \"Define key terms and components related to database clustering and distributed databases.\"),\n",
    "    (\"CO2\", \"Explain the processes for deploying, monitoring, and managing database clusters.\"),\n",
    "    (\"CO3\", \"Apply CRUD operations, automation tools, and cluster monitoring utilities to manage data and nodes.\"),\n",
    "    (\"CO4\", \"Analyze performance metrics and identify solutions to cluster connectivity and latency problems.\"),\n",
    "    (\"CO5\", \"Evaluate the effectiveness of security mechanisms and backup strategies in a database system.\"),\n",
    "    (\"CO6\", \"Design and implement cluster configurations and communication architectures for different scenarios.\")\n",
    "]\n",
    "for code, desc in cos:\n",
    "    doc.add_paragraph(f\"{code}: {desc}\", style='List Bullet')\n",
    "\n",
    "# Add Program Outcomes section\n",
    "doc.add_heading('2. Program Outcomes (POs)', level=1)\n",
    "po_data = [\n",
    "    (\"PO1\", \"Engineering Knowledge\"),\n",
    "    (\"PO2\", \"Problem Analysis\"),\n",
    "    (\"PO3\", \"Design/Development of Solutions\"),\n",
    "    (\"PO4\", \"Conduct Investigations\"),\n",
    "    (\"PO5\", \"Modern Tool Usage\"),\n",
    "    (\"PO6\", \"Engineer & Society\"),\n",
    "    (\"PO7\", \"Environment & Sustainability\"),\n",
    "    (\"PO8\", \"Ethics\"),\n",
    "    (\"PO9\", \"Individual & Team Work\"),\n",
    "    (\"PO10\", \"Communication\"),\n",
    "    (\"PO11\", \"Project Management\"),\n",
    "    (\"PO12\", \"Life-long Learning\")\n",
    "]\n",
    "for code, desc in po_data:\n",
    "    doc.add_paragraph(f\"{code}: {desc}\", style='List Bullet')\n",
    "\n",
    "# Add Program Specific Outcomes section\n",
    "doc.add_heading('3. Program Specific Outcomes (PSOs)', level=1)\n",
    "pso_data = [\n",
    "    (\"PSO1\", \"Ability to design and manage data-centric solutions using modern database technologies.\"),\n",
    "    (\"PSO2\", \"Ability to implement secure, scalable, and fault-tolerant distributed database systems.\")\n",
    "]\n",
    "for code, desc in pso_data:\n",
    "    doc.add_paragraph(f\"{code}: {desc}\", style='List Bullet')\n",
    "\n",
    "# Add CO-PO-PSO Mapping Table\n",
    "doc.add_heading('4. CO-PO-PSO Mapping Table', level=1)\n",
    "mapping_table = [\n",
    "    [3, 2, 1, 1, 2, 0, 0, 1, 0, 1, 0, 2, 2, 2],  # CO1\n",
    "    [3, 3, 2, 2, 3, 1, 0, 1, 1, 2, 1, 2, 3, 2],  # CO2\n",
    "    [3, 3, 3, 2, 3, 1, 0, 1, 1, 2, 2, 3, 3, 3],  # CO3\n",
    "    [3, 3, 2, 3, 3, 1, 0, 1, 1, 2, 2, 3, 2, 3],  # CO4\n",
    "    [3, 2, 2, 2, 2, 2, 1, 2, 1, 1, 1, 3, 3, 3],  # CO5\n",
    "    [3, 3, 3, 3, 3, 1, 0, 1, 2, 2, 2, 3, 3, 3],  # CO6\n",
    "]\n",
    "\n",
    "# Table header\n",
    "headers = [\"CO \\\\ PO/PSO\", \"PO1\", \"PO2\", \"PO3\", \"PO4\", \"PO5\", \"PO6\", \"PO7\", \"PO8\", \"PO9\", \"PO10\", \"PO11\", \"PO12\", \"PSO1\", \"PSO2\"]\n",
    "table = doc.add_table(rows=1, cols=len(headers))\n",
    "hdr_cells = table.rows[0].cells\n",
    "for i, header in enumerate(headers):\n",
    "    hdr_cells[i].text = header\n",
    "\n",
    "# Add CO rows\n",
    "for i, row in enumerate(mapping_table):\n",
    "    cells = table.add_row().cells\n",
    "    cells[0].text = f\"CO{i+1}\"\n",
    "    for j, val in enumerate(row):\n",
    "        cells[j+1].text = str(val)\n",
    "\n",
    "# Save the document\n",
    "file_path = \"CO_PO_PSO_Mapping_Table.docx\"\n",
    "doc.save(file_path)\n",
    "file_path\n",
    "# Generate PDF file\n",
    "convert(file_path, file_path.replace(\".docx\", \".pdf\"))\n",
    "# Print success message\n",
    "print(f\"Document and PDF generated successfully: {file_path} and {file_path.replace('.docx', '.pdf')}\") \n",
    "# End of script\n",
    "# This script generates a CO-PO-PSO mapping table in a Word document and converts\n",
    "\n",
    "    # it to a PDF file. It includes course outcomes, program outcomes, and program specific outcomes,\n",
    "    # along with a mapping table that shows the relationship between them.\n",
    "    # The generated files are saved in the current working directory.\n",
    "    \n"
   ]
  }
 ],
 "metadata": {
  "kernelspec": {
   "display_name": ".venv",
   "language": "python",
   "name": "python3"
  },
  "language_info": {
   "codemirror_mode": {
    "name": "ipython",
    "version": 3
   },
   "file_extension": ".py",
   "mimetype": "text/x-python",
   "name": "python",
   "nbconvert_exporter": "python",
   "pygments_lexer": "ipython3",
   "version": "3.13.5"
  }
 },
 "nbformat": 4,
 "nbformat_minor": 5
}
