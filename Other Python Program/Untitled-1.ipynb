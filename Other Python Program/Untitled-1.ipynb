{
 "cells": [
  {
   "cell_type": "code",
   "execution_count": 2,
   "id": "02d8e11e",
   "metadata": {},
   "outputs": [
    {
     "name": "stdout",
     "output_type": "stream",
     "text": [
      "Requirement already satisfied: python-docx in c:\\users\\hp\\desktop\\ml\\data-analysis\\.venv\\lib\\site-packages (1.2.0)\n",
      "Requirement already satisfied: lxml>=3.1.0 in c:\\users\\hp\\desktop\\ml\\data-analysis\\.venv\\lib\\site-packages (from python-docx) (5.4.0)\n",
      "Requirement already satisfied: typing_extensions>=4.9.0 in c:\\users\\hp\\desktop\\ml\\data-analysis\\.venv\\lib\\site-packages (from python-docx) (4.14.0)\n",
      "Note: you may need to restart the kernel to use updated packages.\n",
      "Collecting docx2pdf\n",
      "  Downloading docx2pdf-0.1.8-py3-none-any.whl.metadata (3.3 kB)\n",
      "Requirement already satisfied: pywin32>=227 in c:\\users\\hp\\desktop\\ml\\data-analysis\\.venv\\lib\\site-packages (from docx2pdf) (310)\n",
      "Collecting tqdm>=4.41.0 (from docx2pdf)\n",
      "  Downloading tqdm-4.67.1-py3-none-any.whl.metadata (57 kB)\n",
      "Requirement already satisfied: colorama in c:\\users\\hp\\desktop\\ml\\data-analysis\\.venv\\lib\\site-packages (from tqdm>=4.41.0->docx2pdf) (0.4.6)\n",
      "Downloading docx2pdf-0.1.8-py3-none-any.whl (6.7 kB)\n",
      "Downloading tqdm-4.67.1-py3-none-any.whl (78 kB)\n",
      "Installing collected packages: tqdm, docx2pdf\n",
      "\n",
      "   ---------------------------------------- 0/2 [tqdm]\n",
      "   ---------------------------------------- 2/2 [docx2pdf]\n",
      "\n",
      "Successfully installed docx2pdf-0.1.8 tqdm-4.67.1\n",
      "Note: you may need to restart the kernel to use updated packages.\n"
     ]
    }
   ],
   "source": [
    "%pip install python-docx\n",
    "%pip install docx2pdf   "
   ]
  },
  {
   "cell_type": "code",
   "execution_count": 3,
   "id": "25a342e6",
   "metadata": {},
   "outputs": [
    {
     "name": "stdout",
     "output_type": "stream",
     "text": [
      "Requirement already satisfied: python-docx in c:\\users\\hp\\desktop\\ml\\data-analysis\\.venv\\lib\\site-packages (1.2.0)\n",
      "Requirement already satisfied: lxml>=3.1.0 in c:\\users\\hp\\desktop\\ml\\data-analysis\\.venv\\lib\\site-packages (from python-docx) (5.4.0)\n",
      "Requirement already satisfied: typing_extensions>=4.9.0 in c:\\users\\hp\\desktop\\ml\\data-analysis\\.venv\\lib\\site-packages (from python-docx) (4.14.0)\n",
      "Note: you may need to restart the kernel to use updated packages.\n",
      "Requirement already satisfied: docx2pdf in c:\\users\\hp\\desktop\\ml\\data-analysis\\.venv\\lib\\site-packages (0.1.8)\n",
      "Requirement already satisfied: pywin32>=227 in c:\\users\\hp\\desktop\\ml\\data-analysis\\.venv\\lib\\site-packages (from docx2pdf) (310)\n",
      "Requirement already satisfied: tqdm>=4.41.0 in c:\\users\\hp\\desktop\\ml\\data-analysis\\.venv\\lib\\site-packages (from docx2pdf) (4.67.1)\n",
      "Requirement already satisfied: colorama in c:\\users\\hp\\desktop\\ml\\data-analysis\\.venv\\lib\\site-packages (from tqdm>=4.41.0->docx2pdf) (0.4.6)\n",
      "Note: you may need to restart the kernel to use updated packages.\n"
     ]
    },
    {
     "name": "stderr",
     "output_type": "stream",
     "text": [
      "c:\\Users\\HP\\Desktop\\ML\\Data-Analysis\\.venv\\Lib\\site-packages\\tqdm\\auto.py:21: TqdmWarning: IProgress not found. Please update jupyter and ipywidgets. See https://ipywidgets.readthedocs.io/en/stable/user_install.html\n",
      "  from .autonotebook import tqdm as notebook_tqdm\n"
     ]
    }
   ],
   "source": [
    "%pip install python-docx\n",
    "%pip install docx2pdf\n",
    "\n",
    "from docx import Document\n",
    "from docx2pdf import convert\n",
    "import os"
   ]
  },
  {
   "cell_type": "code",
   "execution_count": 4,
   "id": "4652358a",
   "metadata": {},
   "outputs": [
    {
     "data": {
      "text/plain": [
       "<docx.text.paragraph.Paragraph at 0x1bd28e3e120>"
      ]
     },
     "execution_count": 4,
     "metadata": {},
     "output_type": "execute_result"
    }
   ],
   "source": [
    "# Create a new Word document\n",
    "doc = Document()\n",
    "doc.add_heading('Course Objectives and Learning Outcomes (UG Level)', 0)"
   ]
  },
  {
   "cell_type": "code",
   "execution_count": 5,
   "id": "6497d569",
   "metadata": {},
   "outputs": [
    {
     "name": "stdout",
     "output_type": "stream",
     "text": [
      "Document saved as: UG_Course_Objectives_Learning_Outcomes.docx\n"
     ]
    },
    {
     "name": "stderr",
     "output_type": "stream",
     "text": [
      "100%|██████████| 1/1 [00:04<00:00,  4.96s/it]"
     ]
    },
    {
     "name": "stdout",
     "output_type": "stream",
     "text": [
      "PDF generated as: UG_Course_Objectives_Learning_Outcomes.pdf\n"
     ]
    },
    {
     "name": "stderr",
     "output_type": "stream",
     "text": [
      "\n"
     ]
    }
   ],
   "source": [
    "# Course Objectives\n",
    "doc.add_heading('Course Objectives', level=1)\n",
    "objectives = [\n",
    "    \"Introduce the fundamentals of database clusters and distributed data management.\",\n",
    "    \"Enable students to configure, deploy, and manage database clusters using automation tools.\",\n",
    "    \"Familiarize students with various types of databases (Relational and NoSQL) and their role in cluster environments.\",\n",
    "    \"Equip students with techniques to monitor cluster performance and troubleshoot connectivity issues.\",\n",
    "    \"Impart knowledge on database security, encryption methods, and role-based access control.\",\n",
    "    \"Provide hands-on practice in backup, recovery, and message transfer operations in databases.\",\n",
    "    \"Develop the ability to configure and manage different cluster architectures like Master-Slave and Multi-Master.\",\n",
    "    \"Encourage project-based learning to implement practical cluster-based solutions.\"\n",
    "]\n",
    "for obj in objectives:\n",
    "    doc.add_paragraph(obj, style='List Number')\n",
    "\n",
    "# Course Learning Outcomes\n",
    "doc.add_heading('Course Learning Outcomes (CLOs)', level=1)\n",
    "table = doc.add_table(rows=1, cols=3)\n",
    "hdr_cells = table.rows[0].cells\n",
    "hdr_cells[0].text = 'CLO Code'\n",
    "hdr_cells[1].text = 'Learning Outcome'\n",
    "hdr_cells[2].text = 'Bloom’s Level'\n",
    "\n",
    "outcomes = [\n",
    "    (\"CLO1\", \"Define key terms and components related to database clustering and distributed databases.\", \"Remember\"),\n",
    "    (\"CLO2\", \"Explain the processes for deploying, monitoring, and managing database clusters.\", \"Understand\"),\n",
    "    (\"CLO3\", \"Apply CRUD operations, automation tools, and cluster monitoring utilities to manage data and nodes.\", \"Apply\"),\n",
    "    (\"CLO4\", \"Analyze performance metrics and identify solutions to cluster connectivity and latency problems.\", \"Analyze\"),\n",
    "    (\"CLO5\", \"Evaluate the effectiveness of security mechanisms and backup strategies in a database system.\", \"Evaluate\"),\n",
    "    (\"CLO6\", \"Design and implement cluster configurations and communication architectures for different scenarios.\", \"Create\"),\n",
    "]\n",
    "\n",
    "for code, outcome, level in outcomes:\n",
    "    row_cells = table.add_row().cells\n",
    "    row_cells[0].text = code\n",
    "    row_cells[1].text = outcome\n",
    "    row_cells[2].text = level\n",
    "\n",
    "# Save the document\n",
    "file_path = \"UG_Course_Objectives_Learning_Outcomes.docx\"\n",
    "doc.save(file_path)\n",
    "file_path\n",
    "# Output the file path\n",
    "print(f\"Document saved as: {file_path}\")\n",
    "# saving file for pdf generation\n",
    "from docx2pdf import convert\n",
    "convert(file_path, \"UG_Course_Objectives_Learning_Outcomes.pdf\")        \n",
    "# Output the PDF file path\n",
    "print(\"PDF generated as: UG_Course_Objectives_Learning_Outcomes.pdf\")       \n",
    "# End of the script \n",
    "# End of the script\n",
    "# The script creates a Word document with course objectives and learning outcomes, then converts it to PDF\n",
    "# and saves both files in the current directory.\n",
    "# The document includes a table for learning outcomes with their respective Bloom's taxonomy levels.\n",
    "# The script uses the python-docx library to create the Word document and docx2pdf to convert it to PDF.\n",
    "# Ensure you have the required libraries installed: \n",
    "    # pip install python-docx docx2pdf\n",
    "# The script is designed to be run in a Python environment with access to the necessary libraries.\n",
    "# The document is structured with headings and lists for clarity, making it suitable for academic purposes.\n",
    "# The script is complete and ready to be executed in a Python environment.\n",
    "# The script creates a Word document with course objectives and learning outcomes, then converts it to PDF\n",
    "# and saves both files in the current directory.\n",
    "    # The document includes a table for learning outcomes with their respective Bloom's taxonomy levels.\n",
    "        # The script uses the python-docx library to create the Word document and docx2pdf to convert it to PDF.\n",
    "            # Ensure you have the required libraries installed:\n",
    "                # pip install python-docx docx2pdf\n",
    "                    # The script is designed to be run in a Python environment with access to the necessary libraries.\n",
    "                        # The document is structured with headings and lists for clarity, making it suitable for academic purposes.\n",
    "                        # The script is complete and ready to be executed in a Python environment.      \n",
    "                            # The script creates a Word document with course objectives and learning outcomes, then converts it to PDF\n",
    "                            # and saves both files in the current directory.    \n",
    "                                # The document includes a table for learning outcomes with their respective Bloom's taxonomy levels.\n",
    "                                    # The script uses the python-docx library to create the Word document and docx2pdf to convert it to PDF.\n",
    "                                    \n",
    "\n",
    "    "
   ]
  }
 ],
 "metadata": {
  "kernelspec": {
   "display_name": ".venv",
   "language": "python",
   "name": "python3"
  },
  "language_info": {
   "codemirror_mode": {
    "name": "ipython",
    "version": 3
   },
   "file_extension": ".py",
   "mimetype": "text/x-python",
   "name": "python",
   "nbconvert_exporter": "python",
   "pygments_lexer": "ipython3",
   "version": "3.13.5"
  }
 },
 "nbformat": 4,
 "nbformat_minor": 5
}
